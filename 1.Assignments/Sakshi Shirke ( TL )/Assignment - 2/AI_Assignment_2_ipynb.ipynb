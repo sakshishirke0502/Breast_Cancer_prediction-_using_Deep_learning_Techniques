{
 "cells": [
  {
   "cell_type": "markdown",
   "metadata": {
    "id": "8guyExLZeTA1"
   },
   "source": [
    "### Q. Apply transfer learning techniques using pre-trained models like ResNet-50 and VGG16 for image classification.\n",
    "###Use a custom image dataset.\n",
    "### Train the model using transfer learning, fine-tuning only the dense layers.\n",
    "### Evaluate the model using metrics like accuracy, precision, and recall.\n",
    "### Step 1 : Importing all the necessary packages :-"
   ]
  },
  {
   "cell_type": "code",
   "execution_count": 4,
   "metadata": {
    "id": "mD76BHea1LYa"
   },
   "outputs": [],
   "source": [
    "import tensorflow as tf\n",
    "from tensorflow.keras.datasets import cifar10"
   ]
  },
  {
   "cell_type": "markdown",
   "metadata": {
    "id": "8aPSvPT8fAxt"
   },
   "source": [
    "## Step 2 : Loading CIFAR-10 Dataset :-"
   ]
  },
  {
   "cell_type": "code",
   "execution_count": 5,
   "metadata": {
    "id": "qGsAiGat1PmZ"
   },
   "outputs": [],
   "source": [
    "# Loading CIFAR-10 dataset\n",
    "(x_train, y_train), (x_test, y_test) = cifar10.load_data()"
   ]
  },
  {
   "cell_type": "code",
   "execution_count": 6,
   "metadata": {
    "id": "zjd-k_YM1VGF"
   },
   "outputs": [],
   "source": [
    "x_train = x_train.astype('float32') / 255.0\n",
    "x_test = x_test.astype('float32') / 255.0\n",
    "\n",
    "y_train = tf.keras.utils.to_categorical(y_train, 10)\n",
    "y_test = tf.keras.utils.to_categorical(y_test, 10)"
   ]
  },
  {
   "cell_type": "markdown",
   "metadata": {
    "id": "9jTMpK9qfh_2"
   },
   "source": [
    "### Step 3 : Preparing the Pre-Trained Models :-"
   ]
  },
  {
   "cell_type": "code",
   "execution_count": 7,
   "metadata": {
    "colab": {
     "base_uri": "https://localhost:8080/"
    },
    "id": "bOB8eMK91d--",
    "outputId": "9acc0aba-1ee8-4ac1-e587-72a4909fb7ea"
   },
   "outputs": [
    {
     "name": "stdout",
     "output_type": "stream",
     "text": [
      "Downloading data from https://storage.googleapis.com/tensorflow/keras-applications/resnet/resnet50_weights_tf_dim_ordering_tf_kernels_notop.h5\n",
      "\u001b[1m94765736/94765736\u001b[0m \u001b[32m━━━━━━━━━━━━━━━━━━━━\u001b[0m\u001b[37m\u001b[0m \u001b[1m1s\u001b[0m 0us/step\n"
     ]
    }
   ],
   "source": [
    "#Loading ResNet50\n",
    "from tensorflow.keras.applications import ResNet50\n",
    "\n",
    "# Loading the ResNet-50 model with ImageNet weights\n",
    "base_model_resnet = ResNet50(weights='imagenet', include_top=False, input_shape=(32, 32, 3))\n",
    "\n",
    "# Freezing the base model\n",
    "base_model_resnet.trainable = False"
   ]
  },
  {
   "cell_type": "code",
   "execution_count": 8,
   "metadata": {
    "colab": {
     "base_uri": "https://localhost:8080/"
    },
    "id": "6zlEVyY_1mN1",
    "outputId": "53fede64-5658-4957-8edf-4cd3d1da5eef"
   },
   "outputs": [
    {
     "name": "stdout",
     "output_type": "stream",
     "text": [
      "Downloading data from https://storage.googleapis.com/tensorflow/keras-applications/vgg16/vgg16_weights_tf_dim_ordering_tf_kernels_notop.h5\n",
      "\u001b[1m58889256/58889256\u001b[0m \u001b[32m━━━━━━━━━━━━━━━━━━━━\u001b[0m\u001b[37m\u001b[0m \u001b[1m1s\u001b[0m 0us/step\n"
     ]
    }
   ],
   "source": [
    "#Loading VGG16\n",
    "from tensorflow.keras.applications import VGG16\n",
    "\n",
    "# Loading the VGG16 model with ImageNet weights\n",
    "base_model_vgg = VGG16(weights='imagenet', include_top=False, input_shape=(32, 32, 3))\n",
    "\n",
    "# Freezing the base model\n",
    "base_model_vgg.trainable = False"
   ]
  },
  {
   "cell_type": "markdown",
   "metadata": {
    "id": "KVlEhgTHgCIM"
   },
   "source": [
    "### Step 4 : Adding Custom Dense Layers :-"
   ]
  },
  {
   "cell_type": "code",
   "execution_count": null,
   "metadata": {
    "id": "9nWaZWvA1qTy"
   },
   "outputs": [],
   "source": [
    "from tensorflow.keras import layers, models\n",
    "\n",
    "# Building the model\n",
    "# resnet 60\n",
    "model_resnet = models.Sequential([\n",
    "    base_model_resnet,\n",
    "    layers.GlobalAveragePooling2D(),\n",
    "    layers.Dense(128, activation='relu'),\n",
    "    layers.Dense(10, activation='softmax')\n",
    "])"
   ]
  },
  {
   "cell_type": "code",
   "execution_count": null,
   "metadata": {
    "id": "ytZiT5WI1t5f"
   },
   "outputs": [],
   "source": [
    "# Building the model    \n",
    "#vgg 16\n",
    "model_vgg = models.Sequential([\n",
    "    base_model_vgg,\n",
    "    layers.Flatten(),\n",
    "    layers.Dense(128, activation='relu'),\n",
    "    layers.Dense(10, activation='softmax')\n",
    "])"
   ]
  },
  {
   "cell_type": "markdown",
   "metadata": {
    "id": "cd-FAEUygVnp"
   },
   "source": [
    "### Step 5 : Compliling The Models :-"
   ]
  },
  {
   "cell_type": "code",
   "execution_count": 11,
   "metadata": {
    "id": "rniNt3s01xsm"
   },
   "outputs": [],
   "source": [
    "model_resnet.compile(optimizer='adam', loss='categorical_crossentropy', metrics=['accuracy'])\n",
    "model_vgg.compile(optimizer='adam', loss='categorical_crossentropy', metrics=['accuracy'])"
   ]
  },
  {
   "cell_type": "markdown",
   "metadata": {
    "id": "HWtaIq7lggnb"
   },
   "source": [
    "### Step 6 : Training Both The Models :-"
   ]
  },
  {
   "cell_type": "code",
   "execution_count": 12,
   "metadata": {
    "colab": {
     "base_uri": "https://localhost:8080/"
    },
    "id": "HPF1a9T111KW",
    "outputId": "dcd76f93-67bf-442c-9e05-c252c8347831"
   },
   "outputs": [
    {
     "name": "stdout",
     "output_type": "stream",
     "text": [
      "Epoch 1/10\n",
      "\u001b[1m625/625\u001b[0m \u001b[32m━━━━━━━━━━━━━━━━━━━━\u001b[0m\u001b[37m\u001b[0m \u001b[1m237s\u001b[0m 363ms/step - accuracy: 0.1898 - loss: 2.2054 - val_accuracy: 0.2914 - val_loss: 1.9317\n",
      "Epoch 2/10\n",
      "\u001b[1m625/625\u001b[0m \u001b[32m━━━━━━━━━━━━━━━━━━━━\u001b[0m\u001b[37m\u001b[0m \u001b[1m302s\u001b[0m 428ms/step - accuracy: 0.2938 - loss: 1.9269 - val_accuracy: 0.3366 - val_loss: 1.8641\n",
      "Epoch 3/10\n",
      "\u001b[1m625/625\u001b[0m \u001b[32m━━━━━━━━━━━━━━━━━━━━\u001b[0m\u001b[37m\u001b[0m \u001b[1m267s\u001b[0m 427ms/step - accuracy: 0.3203 - loss: 1.8725 - val_accuracy: 0.3487 - val_loss: 1.7913\n",
      "Epoch 4/10\n",
      "\u001b[1m625/625\u001b[0m \u001b[32m━━━━━━━━━━━━━━━━━━━━\u001b[0m\u001b[37m\u001b[0m \u001b[1m321s\u001b[0m 426ms/step - accuracy: 0.3396 - loss: 1.8325 - val_accuracy: 0.3619 - val_loss: 1.7740\n",
      "Epoch 5/10\n",
      "\u001b[1m625/625\u001b[0m \u001b[32m━━━━━━━━━━━━━━━━━━━━\u001b[0m\u001b[37m\u001b[0m \u001b[1m323s\u001b[0m 428ms/step - accuracy: 0.3539 - loss: 1.7964 - val_accuracy: 0.3737 - val_loss: 1.7727\n",
      "Epoch 6/10\n",
      "\u001b[1m625/625\u001b[0m \u001b[32m━━━━━━━━━━━━━━━━━━━━\u001b[0m\u001b[37m\u001b[0m \u001b[1m267s\u001b[0m 428ms/step - accuracy: 0.3623 - loss: 1.7714 - val_accuracy: 0.3700 - val_loss: 1.7462\n",
      "Epoch 7/10\n",
      "\u001b[1m625/625\u001b[0m \u001b[32m━━━━━━━━━━━━━━━━━━━━\u001b[0m\u001b[37m\u001b[0m \u001b[1m285s\u001b[0m 369ms/step - accuracy: 0.3685 - loss: 1.7505 - val_accuracy: 0.3720 - val_loss: 1.7203\n",
      "Epoch 8/10\n",
      "\u001b[1m625/625\u001b[0m \u001b[32m━━━━━━━━━━━━━━━━━━━━\u001b[0m\u001b[37m\u001b[0m \u001b[1m300s\u001b[0m 429ms/step - accuracy: 0.3763 - loss: 1.7333 - val_accuracy: 0.3654 - val_loss: 1.7580\n",
      "Epoch 9/10\n",
      "\u001b[1m625/625\u001b[0m \u001b[32m━━━━━━━━━━━━━━━━━━━━\u001b[0m\u001b[37m\u001b[0m \u001b[1m330s\u001b[0m 443ms/step - accuracy: 0.3749 - loss: 1.7333 - val_accuracy: 0.3894 - val_loss: 1.7138\n",
      "Epoch 10/10\n",
      "\u001b[1m625/625\u001b[0m \u001b[32m━━━━━━━━━━━━━━━━━━━━\u001b[0m\u001b[37m\u001b[0m \u001b[1m315s\u001b[0m 431ms/step - accuracy: 0.3874 - loss: 1.7135 - val_accuracy: 0.4005 - val_loss: 1.6736\n",
      "Epoch 1/10\n",
      "\u001b[1m625/625\u001b[0m \u001b[32m━━━━━━━━━━━━━━━━━━━━\u001b[0m\u001b[37m\u001b[0m \u001b[1m714s\u001b[0m 1s/step - accuracy: 0.4377 - loss: 1.6143 - val_accuracy: 0.5567 - val_loss: 1.2775\n",
      "Epoch 2/10\n",
      "\u001b[1m625/625\u001b[0m \u001b[32m━━━━━━━━━━━━━━━━━━━━\u001b[0m\u001b[37m\u001b[0m \u001b[1m707s\u001b[0m 1s/step - accuracy: 0.5713 - loss: 1.2388 - val_accuracy: 0.5738 - val_loss: 1.2196\n",
      "Epoch 3/10\n",
      "\u001b[1m625/625\u001b[0m \u001b[32m━━━━━━━━━━━━━━━━━━━━\u001b[0m\u001b[37m\u001b[0m \u001b[1m812s\u001b[0m 1s/step - accuracy: 0.5919 - loss: 1.1687 - val_accuracy: 0.5814 - val_loss: 1.2011\n",
      "Epoch 4/10\n",
      "\u001b[1m625/625\u001b[0m \u001b[32m━━━━━━━━━━━━━━━━━━━━\u001b[0m\u001b[37m\u001b[0m \u001b[1m727s\u001b[0m 1s/step - accuracy: 0.6109 - loss: 1.1081 - val_accuracy: 0.5916 - val_loss: 1.1776\n",
      "Epoch 5/10\n",
      "\u001b[1m625/625\u001b[0m \u001b[32m━━━━━━━━━━━━━━━━━━━━\u001b[0m\u001b[37m\u001b[0m \u001b[1m744s\u001b[0m 1s/step - accuracy: 0.6181 - loss: 1.0893 - val_accuracy: 0.5985 - val_loss: 1.1592\n",
      "Epoch 6/10\n",
      "\u001b[1m625/625\u001b[0m \u001b[32m━━━━━━━━━━━━━━━━━━━━\u001b[0m\u001b[37m\u001b[0m \u001b[1m736s\u001b[0m 1s/step - accuracy: 0.6306 - loss: 1.0602 - val_accuracy: 0.5993 - val_loss: 1.1570\n",
      "Epoch 7/10\n",
      "\u001b[1m625/625\u001b[0m \u001b[32m━━━━━━━━━━━━━━━━━━━━\u001b[0m\u001b[37m\u001b[0m \u001b[1m736s\u001b[0m 1s/step - accuracy: 0.6365 - loss: 1.0375 - val_accuracy: 0.6043 - val_loss: 1.1423\n",
      "Epoch 8/10\n",
      "\u001b[1m625/625\u001b[0m \u001b[32m━━━━━━━━━━━━━━━━━━━━\u001b[0m\u001b[37m\u001b[0m \u001b[1m750s\u001b[0m 1s/step - accuracy: 0.6472 - loss: 1.0070 - val_accuracy: 0.6058 - val_loss: 1.1405\n",
      "Epoch 9/10\n",
      "\u001b[1m625/625\u001b[0m \u001b[32m━━━━━━━━━━━━━━━━━━━━\u001b[0m\u001b[37m\u001b[0m \u001b[1m740s\u001b[0m 1s/step - accuracy: 0.6549 - loss: 0.9867 - val_accuracy: 0.6093 - val_loss: 1.1385\n",
      "Epoch 10/10\n",
      "\u001b[1m625/625\u001b[0m \u001b[32m━━━━━━━━━━━━━━━━━━━━\u001b[0m\u001b[37m\u001b[0m \u001b[1m747s\u001b[0m 1s/step - accuracy: 0.6617 - loss: 0.9637 - val_accuracy: 0.6076 - val_loss: 1.1402\n"
     ]
    }
   ],
   "source": [
    "# Train ResNet-50\n",
    "history_resnet = model_resnet.fit(x_train, y_train, epochs=10, batch_size=64, validation_split=0.2)\n",
    "\n",
    "# Train VGG16\n",
    "history_vgg = model_vgg.fit(x_train, y_train, epochs=10, batch_size=64, validation_split=0.2)\n"
   ]
  },
  {
   "cell_type": "markdown",
   "metadata": {
    "id": "SKeZgea9gqeo"
   },
   "source": [
    "### Step 7 : Evaluating Both the Models :-"
   ]
  },
  {
   "cell_type": "code",
   "execution_count": 13,
   "metadata": {
    "id": "Qi5KpsJWdwvM"
   },
   "outputs": [],
   "source": [
    "from sklearn.metrics import classification_report"
   ]
  },
  {
   "cell_type": "code",
   "execution_count": 14,
   "metadata": {
    "colab": {
     "base_uri": "https://localhost:8080/"
    },
    "id": "qyszfQ-5d2ZI",
    "outputId": "08af441c-199d-44ee-8fbc-5e629f525f13"
   },
   "outputs": [
    {
     "name": "stdout",
     "output_type": "stream",
     "text": [
      "\u001b[1m313/313\u001b[0m \u001b[32m━━━━━━━━━━━━━━━━━━━━\u001b[0m\u001b[37m\u001b[0m \u001b[1m61s\u001b[0m 188ms/step\n",
      "ResNet-50 Classification Report:\n",
      "              precision    recall  f1-score   support\n",
      "\n",
      "           0       0.51      0.38      0.43      1000\n",
      "           1       0.39      0.54      0.45      1000\n",
      "           2       0.32      0.27      0.29      1000\n",
      "           3       0.31      0.08      0.13      1000\n",
      "           4       0.34      0.48      0.39      1000\n",
      "           5       0.40      0.35      0.37      1000\n",
      "           6       0.44      0.34      0.38      1000\n",
      "           7       0.40      0.52      0.45      1000\n",
      "           8       0.42      0.65      0.51      1000\n",
      "           9       0.50      0.44      0.47      1000\n",
      "\n",
      "    accuracy                           0.40     10000\n",
      "   macro avg       0.40      0.40      0.39     10000\n",
      "weighted avg       0.40      0.40      0.39     10000\n",
      "\n"
     ]
    }
   ],
   "source": [
    " #Evaluating ResNet-50\n",
    "y_pred_resnet = model_resnet.predict(x_test)\n",
    "y_pred_resnet_classes = tf.argmax(y_pred_resnet, axis=1).numpy()\n",
    "y_test_classes = tf.argmax(y_test, axis=1).numpy()\n",
    "\n",
    "print(\"ResNet-50 Classification Report:\")\n",
    "print(classification_report(y_test_classes, y_pred_resnet_classes))"
   ]
  },
  {
   "cell_type": "code",
   "execution_count": 15,
   "metadata": {
    "colab": {
     "base_uri": "https://localhost:8080/"
    },
    "id": "-Ho1yWdXeL5f",
    "outputId": "fafc6c91-60c3-4609-d65c-6464fcffa246"
   },
   "outputs": [
    {
     "name": "stdout",
     "output_type": "stream",
     "text": [
      "\u001b[1m313/313\u001b[0m \u001b[32m━━━━━━━━━━━━━━━━━━━━\u001b[0m\u001b[37m\u001b[0m \u001b[1m212s\u001b[0m 674ms/step\n",
      "VGG16 Classification Report:\n",
      "              precision    recall  f1-score   support\n",
      "\n",
      "           0       0.71      0.62      0.66      1000\n",
      "           1       0.76      0.58      0.66      1000\n",
      "           2       0.61      0.43      0.51      1000\n",
      "           3       0.44      0.43      0.44      1000\n",
      "           4       0.59      0.50      0.54      1000\n",
      "           5       0.60      0.49      0.54      1000\n",
      "           6       0.56      0.75      0.65      1000\n",
      "           7       0.62      0.71      0.66      1000\n",
      "           8       0.62      0.82      0.70      1000\n",
      "           9       0.59      0.70      0.64      1000\n",
      "\n",
      "    accuracy                           0.60     10000\n",
      "   macro avg       0.61      0.60      0.60     10000\n",
      "weighted avg       0.61      0.60      0.60     10000\n",
      "\n"
     ]
    }
   ],
   "source": [
    "# Evaluating VGG16\n",
    "y_pred_vgg = model_vgg.predict(x_test)\n",
    "y_pred_vgg_classes = tf.argmax(y_pred_vgg, axis=1).numpy()\n",
    "\n",
    "print(\"VGG16 Classification Report:\")\n",
    "print(classification_report(y_test_classes, y_pred_vgg_classes))"
   ]
  }
 ],
 "metadata": {
  "colab": {
   "provenance": []
  },
  "kernelspec": {
   "display_name": "Python 3",
   "name": "python3"
  },
  "language_info": {
   "name": "python"
  }
 },
 "nbformat": 4,
 "nbformat_minor": 0
}
